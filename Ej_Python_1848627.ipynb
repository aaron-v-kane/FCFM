{
  "nbformat": 4,
  "nbformat_minor": 0,
  "metadata": {
    "colab": {
      "name": "Ej_Python_1848627.ipynb",
      "provenance": [],
      "collapsed_sections": [],
      "authorship_tag": "ABX9TyMMsUSjbB5yv7tixGgz8WXY",
      "include_colab_link": true
    },
    "kernelspec": {
      "name": "python3",
      "display_name": "Python 3"
    },
    "language_info": {
      "name": "python"
    }
  },
  "cells": [
    {
      "cell_type": "markdown",
      "metadata": {
        "id": "view-in-github",
        "colab_type": "text"
      },
      "source": [
        "<a href=\"https://colab.research.google.com/github/aaron-v-kane/FCFM/blob/main/Ej_Python_1848627.ipynb\" target=\"_parent\"><img src=\"https://colab.research.google.com/assets/colab-badge.svg\" alt=\"Open In Colab\"/></a>"
      ]
    },
    {
      "cell_type": "markdown",
      "metadata": {
        "id": "Qudvk0moMk3n"
      },
      "source": [
        "Ejercicios de Python"
      ]
    },
    {
      "cell_type": "code",
      "metadata": {
        "colab": {
          "base_uri": "https://localhost:8080/"
        },
        "id": "QOMJU9u-LYtO",
        "outputId": "cf8ec9db-8cf2-47ac-96bf-066a389b2b0e"
      },
      "source": [
        "#Programa 1\n",
        "import pandas as pd\n",
        "import numpy as np\n",
        "print(\"Hola Mundo!\")\n"
      ],
      "execution_count": null,
      "outputs": [
        {
          "output_type": "stream",
          "text": [
            "Hola Mundo!\n"
          ],
          "name": "stdout"
        }
      ]
    },
    {
      "cell_type": "markdown",
      "metadata": {
        "id": "taGx7f5UNEdv"
      },
      "source": [
        "Ejercicio 1"
      ]
    },
    {
      "cell_type": "code",
      "metadata": {
        "colab": {
          "base_uri": "https://localhost:8080/"
        },
        "id": "rT1JsyYwM3AX",
        "outputId": "84d19499-a041-4301-d9ae-eabb60fdbb42"
      },
      "source": [
        "#Programa 2\n",
        "import pandas as pd\n",
        "import numpy as np\n",
        "a = int(input(\"Introduce tu matricula:\"))\n",
        "b = str(input(\"Introduce tu nombre:\"))\n",
        "print(a, b)"
      ],
      "execution_count": null,
      "outputs": [
        {
          "output_type": "stream",
          "text": [
            "Introduce tu matricula:1848627\n",
            "Introduce tu nombre:Aaron Villegas Kane\n",
            "1848627 Aaron Villegas Kane\n"
          ],
          "name": "stdout"
        }
      ]
    },
    {
      "cell_type": "markdown",
      "metadata": {
        "id": "DkQOW-iQPT1D"
      },
      "source": [
        "Ejercicio 2"
      ]
    },
    {
      "cell_type": "code",
      "metadata": {
        "id": "zWFFvPfUPV2q",
        "colab": {
          "base_uri": "https://localhost:8080/"
        },
        "outputId": "f7406418-a15b-4912-9af1-da327ca3eb1b"
      },
      "source": [
        "#Programa 3\n",
        "import pandas as pd\n",
        "import numpy as np\n",
        "a = int(input(\"Introduce un numero:\"))\n",
        "b = int(input(\"Introduce otro numero:\"))\n",
        "c = int(input(\"¿Que desea realizar con los numeros?\\n\\\n",
        "1 - sumar\\n\\\n",
        "2 - restar\\n\\\n",
        "3 - multiplicar\\n\\\n",
        "4 - dividir\\n\\\n",
        "5 - elevar como exponente\\n\\\n",
        "\"))\n",
        "while c > 5:\n",
        "  print(\"no es una opcion valida\")\n",
        "  break\n",
        "while c <= 5:\n",
        "  if c == 1:\n",
        "    d = a+b\n",
        "    print(\"la suma de los numeros es:\", d)\n",
        "    break\n",
        "  elif c == 2:\n",
        "    d = a-b\n",
        "    print(\"la resta de los numeros es:\", d)\n",
        "    break\n",
        "  elif c == 3:\n",
        "    d =a*b\n",
        "    print(\"la multiplicacion de los numeros es:\", d)\n",
        "    break\n",
        "  elif c == 4:\n",
        "    d = a/b\n",
        "    print(\"el cociente de los numeros es:\", d)\n",
        "    break\n",
        "  else:\n",
        "    d = a**b\n",
        "    print(\"el resultado del exponente es:\", d)\n",
        "    break"
      ],
      "execution_count": null,
      "outputs": [
        {
          "output_type": "stream",
          "text": [
            "Introduce un numero:3\n",
            "Introduce otro numero:4\n",
            "¿Que desea realizar con los numeros?\n",
            "1 - sumar\n",
            "2 - restar\n",
            "3 - multiplicar\n",
            "4 - dividir\n",
            "5 - elevar como exponente\n",
            "5\n",
            "el resultado del exponente es: 81\n"
          ],
          "name": "stdout"
        }
      ]
    },
    {
      "cell_type": "markdown",
      "metadata": {
        "id": "tERUm8N9Rqiq"
      },
      "source": [
        "Ejercicio 3"
      ]
    },
    {
      "cell_type": "code",
      "metadata": {
        "id": "suYyJwBKRt51",
        "colab": {
          "base_uri": "https://localhost:8080/"
        },
        "outputId": "7acecd90-1742-48a2-d489-9e947bbc4ef9"
      },
      "source": [
        "#Programa 4\n",
        "import pandas as pd\n",
        "import numpy as np\n",
        "a = 0\n",
        "my_list = [3, 9, 15, 21, 27, 33, 39, 45, 51, 57]\n",
        "for i in range(len(my_list)):\n",
        "  a = my_list[i] + a\n",
        "print(a)\n",
        "\n"
      ],
      "execution_count": null,
      "outputs": [
        {
          "output_type": "stream",
          "text": [
            "300\n"
          ],
          "name": "stdout"
        }
      ]
    },
    {
      "cell_type": "markdown",
      "metadata": {
        "id": "1tx7FN7vd0XL"
      },
      "source": [
        "Ejercicio 4"
      ]
    },
    {
      "cell_type": "code",
      "metadata": {
        "colab": {
          "base_uri": "https://localhost:8080/"
        },
        "id": "GnJj2tR5d2r2",
        "outputId": "e467c4c3-f174-4b33-b485-762c87b1c2b3"
      },
      "source": [
        "#Programa 5\n",
        "import pandas as pd\n",
        "import numpy as np\n",
        "a = int(input(\"Ingrese un numero entero:\"))\n",
        "flag = False\n",
        "if a == 2:\n",
        "  print(\"El numero es par y primo\")\n",
        "elif a % 2 == 0:\n",
        "  print(\"El numero es par y no es primo\")\n",
        "else:\n",
        "  for i in range(2, a):\n",
        "    if (a % i) == 0:\n",
        "      flag = True\n",
        "      break\n",
        "  if flag == True:\n",
        "    print(\"El numero\", a,\"no es primo e impar\")\n",
        "  else:\n",
        "    print(\"El numero\", a,\"es primo e impar\")\n"
      ],
      "execution_count": null,
      "outputs": [
        {
          "output_type": "stream",
          "text": [
            "Ingrese un numero entero:9\n",
            "El numero 9 no es primo e impar\n"
          ],
          "name": "stdout"
        }
      ]
    },
    {
      "cell_type": "markdown",
      "metadata": {
        "id": "NRTxdqvdmtvx"
      },
      "source": [
        "Ejercicio 5"
      ]
    },
    {
      "cell_type": "code",
      "metadata": {
        "id": "LhHQMnK8edV-"
      },
      "source": [
        "#Programa 6\n",
        "import pandas as pd\n",
        "import numpy as np"
      ],
      "execution_count": null,
      "outputs": []
    },
    {
      "cell_type": "markdown",
      "metadata": {
        "id": "A_TxdAX4sgvh"
      },
      "source": [
        "Ejercicio Tupla"
      ]
    },
    {
      "cell_type": "code",
      "metadata": {
        "colab": {
          "base_uri": "https://localhost:8080/"
        },
        "id": "tlyousKisjy_",
        "outputId": "35247fef-6d6b-4e2e-e64b-fb4005f857ee"
      },
      "source": [
        "import pandas as pd\n",
        "import numpy as np\n",
        "fl = 1.96\n",
        "inte = -4\n",
        "bo = False\n",
        "co = 1+2j\n",
        "print(\"La variable fl es de tipo:\",type(fl))\n",
        "print(\"La variable inte es de tipo:\",type(inte))\n",
        "print(\"La variable bo es de tipo:\",type(bo))\n",
        "print(\"La variable fco es de tipo:\",type(co))\n",
        "my_tuple = (-5, 8, 14, -24, -9, 16)\n",
        "print(\"El primer valor de la tupla es:\", my_tuple[0],\"El ultimo valor de la tupla es:\", my_tuple[5])\n",
        "n1 = (\"valor\")\n",
        "n2 = (\"de\")\n",
        "n3 = (\"string\")\n",
        "my_tuple = my_tuple + (n1,) + (n2,) + (n3,)\n",
        "if fl in my_tuple:\n",
        "  print(\"existe la variable fl en la tupla\")\n",
        "else:\n",
        "  print(\"no existe la variable fl en la tupla\")\n"
      ],
      "execution_count": null,
      "outputs": [
        {
          "output_type": "stream",
          "text": [
            "La variable fl es de tipo: <class 'float'>\n",
            "La variable inte es de tipo: <class 'int'>\n",
            "La variable bo es de tipo: <class 'bool'>\n",
            "La variable fco es de tipo: <class 'complex'>\n",
            "El primer valor de la tupla es: -5 El ultimo valor de la tupla es: 16\n",
            "no existe la variable fl en la tupla\n"
          ],
          "name": "stdout"
        }
      ]
    },
    {
      "cell_type": "markdown",
      "metadata": {
        "id": "noqKtela2m3I"
      },
      "source": [
        "Ejercicio Lista"
      ]
    },
    {
      "cell_type": "code",
      "metadata": {
        "colab": {
          "base_uri": "https://localhost:8080/"
        },
        "id": "k8ZYRhiu2_Ig",
        "outputId": "f18c9f4b-6012-491e-f54b-dc4b34d4c7ab"
      },
      "source": [
        "import pandas as pd\n",
        "import numpy as np\n",
        "import random\n",
        "list1 = []\n",
        "list_par = []\n",
        "list_impar = []\n",
        "for i in range(1,41):\n",
        "  list1.append(random.randint(0,1000))\n",
        "for i in range(1,41):\n",
        "  if i % 2 == 0:\n",
        "    list_par.append(list1[i-1])\n",
        "  else:\n",
        "    list_impar.append(list1[i-1])\n",
        "a = len(list_par)\n",
        "b = len(list_impar)\n",
        "print(a)\n",
        "print(b)\n",
        "list_par.sort(reverse = True)\n",
        "list_impar.sort()\n",
        "print(list_par)\n",
        "print(list_impar)"
      ],
      "execution_count": null,
      "outputs": [
        {
          "output_type": "stream",
          "text": [
            "20\n",
            "20\n",
            "[891, 870, 836, 749, 741, 578, 564, 545, 530, 530, 505, 465, 453, 425, 417, 405, 234, 157, 62, 21]\n",
            "[40, 60, 69, 87, 98, 159, 163, 206, 242, 242, 384, 407, 471, 622, 639, 655, 783, 795, 906, 977]\n"
          ],
          "name": "stdout"
        }
      ]
    },
    {
      "cell_type": "markdown",
      "metadata": {
        "id": "YvGwP5qcHpvB"
      },
      "source": [
        "Ejercicio Diccionarios"
      ]
    },
    {
      "cell_type": "code",
      "metadata": {
        "colab": {
          "base_uri": "https://localhost:8080/"
        },
        "id": "ET3VOeiOHtS8",
        "outputId": "719f1bd5-e1d8-4d60-aaee-40c67e6a685c"
      },
      "source": [
        "import pandas as pd\n",
        "import numpy as np\n",
        "my_dict = {\n",
        "    \"Cesar\": 21,\n",
        "    \"Pedro\": 20,\n",
        "    \"Juan\": 22,\n",
        "    \"Karina\": 20,\n",
        "    \"Mayra\": 20,\n",
        "    \"Daniel\": 21\n",
        "}\n",
        "my_list = [21, 20, 22, 20, 20, 21]\n",
        "my_list.sort()\n",
        "#https://thispointer.com/python-4-ways-to-print-items-of-a-dictionary-line-by-line/\n",
        "for key, value in my_dict.items():\n",
        "  print(key)\n",
        "my_dict[\"Ilse\"] = 23\n",
        "my_dict[\"Jaime\"] = 18"
      ],
      "execution_count": null,
      "outputs": [
        {
          "output_type": "stream",
          "text": [
            "Cesar\n",
            "Pedro\n",
            "Juan\n",
            "Karina\n",
            "Mayra\n",
            "Daniel\n"
          ],
          "name": "stdout"
        }
      ]
    },
    {
      "cell_type": "markdown",
      "metadata": {
        "id": "Vc0omz1gXPuK"
      },
      "source": [
        "Ejercicio Sets"
      ]
    },
    {
      "cell_type": "code",
      "metadata": {
        "colab": {
          "base_uri": "https://localhost:8080/"
        },
        "id": "mG07ZTBaXRmK",
        "outputId": "52dcb161-221f-446b-908f-0218073ca84b"
      },
      "source": [
        "import pandas as pd\n",
        "import numpy as np\n",
        "import random\n",
        "a = set()\n",
        "for i in range(0,100):\n",
        "  b = random.randint(1,25)\n",
        "  a.add(b)\n",
        "print(len(a))\n",
        "#los sets no permiten valores duplicados\n",
        "list1 = []\n",
        "for i in range(0,5):\n",
        "  b = random.randint(1,10)\n",
        "  list1.append(b)\n",
        "print(a)\n",
        "print(list1)"
      ],
      "execution_count": null,
      "outputs": [
        {
          "output_type": "stream",
          "text": [
            "25\n",
            "{1, 2, 3, 4, 5, 6, 7, 8, 9, 10, 11, 12, 13, 14, 15, 16, 17, 18, 19, 20, 21, 22, 23, 24, 25}\n",
            "[5, 6, 4, 6, 6]\n"
          ],
          "name": "stdout"
        }
      ]
    }
  ]
}